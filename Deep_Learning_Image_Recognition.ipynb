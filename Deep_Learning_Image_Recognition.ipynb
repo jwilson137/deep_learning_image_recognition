{
  "nbformat": 4,
  "nbformat_minor": 0,
  "metadata": {
    "colab": {
      "name": "Deep Learning: Image Recognition.ipynb",
      "provenance": [],
      "collapsed_sections": [
        "CfxSGiej6As4",
        "K6y2f53O6EVb",
        "TujojrKP6ITW",
        "rBd8yir5_UEz",
        "uC4sAwCo_WCD",
        "gyu2jnFG__sZ"
      ],
      "authorship_tag": "ABX9TyM2sxjZ/YKmlO0HbGqDmEDx",
      "include_colab_link": true
    },
    "kernelspec": {
      "name": "python3",
      "display_name": "Python 3"
    },
    "language_info": {
      "name": "python"
    },
    "accelerator": "GPU"
  },
  "cells": [
    {
      "cell_type": "markdown",
      "metadata": {
        "id": "view-in-github",
        "colab_type": "text"
      },
      "source": [
        "<a href=\"https://colab.research.google.com/github/jwilson137/deep_learning_image_recognition/blob/main/Deep_Learning_Image_Recognition.ipynb\" target=\"_parent\"><img src=\"https://colab.research.google.com/assets/colab-badge.svg\" alt=\"Open In Colab\"/></a>"
      ]
    },
    {
      "cell_type": "code",
      "execution_count": 1,
      "metadata": {
        "id": "F8HnOWJpUi1D"
      },
      "outputs": [],
      "source": [
        "import keras\n",
        "from keras.datasets import cifar10\n",
        "from keras.models import Sequential\n",
        "from keras.layers import Dense, Dropout, Flatten, Conv2D, MaxPooling2D\n",
        "from pathlib import Path\n",
        "import matplotlib.pylab as plt"
      ]
    },
    {
      "cell_type": "code",
      "source": [
        ""
      ],
      "metadata": {
        "id": "XmjGM3DT6AKh"
      },
      "execution_count": null,
      "outputs": []
    },
    {
      "cell_type": "markdown",
      "source": [
        "# Basic Model"
      ],
      "metadata": {
        "id": "CfxSGiej6As4"
      }
    },
    {
      "cell_type": "code",
      "source": [
        "model = keras.models.Sequential()\n",
        "model.add(Dense(3,input_dim=2, activation = 'ReLU'))\n",
        "model.add(Dense(3,activation = 'ReLU'))\n",
        "model.add(Dense(1))\n",
        "model.compile(optimizer='adam', loss='mse')"
      ],
      "metadata": {
        "id": "rrRzkWw1w5Zk"
      },
      "execution_count": 2,
      "outputs": []
    },
    {
      "cell_type": "markdown",
      "source": [
        "# Verify Data"
      ],
      "metadata": {
        "id": "K6y2f53O6EVb"
      }
    },
    {
      "cell_type": "code",
      "source": [
        "cifar10_class_names = {\n",
        "    0: 'Plane', \n",
        "    1: 'Car', \n",
        "    2: 'Bird',\n",
        "    3: 'Cat',\n",
        "    4: 'Deer',\n",
        "    5: 'Dog',\n",
        "    6: 'Frog', \n",
        "    7: 'Horse', \n",
        "    8: 'Boat', \n",
        "    9: 'Truck'\n",
        "}"
      ],
      "metadata": {
        "id": "azNjYzQQ03cZ"
      },
      "execution_count": 3,
      "outputs": []
    },
    {
      "cell_type": "code",
      "source": [
        "(x_train, y_train), (x_test, y_test) = cifar10.load_data()"
      ],
      "metadata": {
        "colab": {
          "base_uri": "https://localhost:8080/"
        },
        "id": "5PeXRMY746fL",
        "outputId": "08c403f7-0f7c-40b3-e2ba-2592da5eaa08"
      },
      "execution_count": 4,
      "outputs": [
        {
          "output_type": "stream",
          "name": "stdout",
          "text": [
            "Downloading data from https://www.cs.toronto.edu/~kriz/cifar-10-python.tar.gz\n",
            "170500096/170498071 [==============================] - 2s 0us/step\n",
            "170508288/170498071 [==============================] - 2s 0us/step\n"
          ]
        }
      ]
    },
    {
      "cell_type": "code",
      "source": [
        "for i in range(1):\n",
        "  # grab an image from the data set\n",
        "  sample_image = x_train[i]\n",
        "  # grab the image's expected class id\n",
        "  image_class_number = y_train[i][0]\n",
        "  # look up the class name from the class id\n",
        "  image_class_name = cifar10_class_names[image_class_number]\n",
        "  # Draw the image as a plot\n",
        "  plt.imshow(sample_image)\n",
        "  # Label the image\n",
        "  plt.title(image_class_name)\n",
        "  # Show plot on the screen\n",
        "  plt.show()"
      ],
      "metadata": {
        "colab": {
          "base_uri": "https://localhost:8080/",
          "height": 281
        },
        "id": "Bhlz8l0d5Aqz",
        "outputId": "2a2bb45a-9617-4c9f-cf0e-5a6168e6d1eb"
      },
      "execution_count": 5,
      "outputs": [
        {
          "output_type": "display_data",
          "data": {
            "image/png": "[encoded data removed]",
            "text/plain": [
              "<Figure size 432x288 with 1 Axes>"
            ]
          },
          "metadata": {
            "needs_background": "light"
          }
        }
      ]
    },
    {
      "cell_type": "markdown",
      "source": [
        "# Cleaning Data "
      ],
      "metadata": {
        "id": "TujojrKP6ITW"
      }
    },
    {
      "cell_type": "code",
      "source": [
        "# Load Data\n",
        "(x_train, y_train), (x_test, y_test) = cifar10.load_data()\n",
        "\n",
        "# Normalize data set to 0-to-1 range\n",
        "x_train = x_train.astype(\"float32\")\n",
        "x_test = x_test.astype(\"float32\")\n",
        "x_train = x_train/255\n",
        "x_test = x_test/255\n",
        "\n",
        "# Convert class vectors to binary matricies\n",
        "# Our labels are single values from 0 to 9\n",
        "# Instead we want one-hot encoding\n",
        "y_train = keras.utils.np_utils.to_categorical(y_train, 10)\n",
        "y_test = keras.utils.np_utils.to_categorical(y_test, 10)"
      ],
      "metadata": {
        "id": "RvyJSyAy5iH7"
      },
      "execution_count": 6,
      "outputs": []
    },
    {
      "cell_type": "markdown",
      "source": [
        "# Create Model"
      ],
      "metadata": {
        "id": "rBd8yir5_UEz"
      }
    },
    {
      "cell_type": "code",
      "source": [
        "#Create the model\n",
        "model = Sequential()\n",
        "model.add(Conv2D(32, (3,3), padding='same', activation='relu', input_shape = (32,32,3)))\n",
        "\n",
        "model.add(Conv2D(32, (3,3), padding='same', activation='relu'))\n",
        "model.add(Conv2D(32, (3,3), activation='relu'))\n",
        "model.add(MaxPooling2D(pool_size=(2,2))) #reduce size\n",
        "model.add(Dropout(0.25))\n",
        "\n",
        "model.add(Conv2D(64, (3,3), padding='same', activation='relu'))\n",
        "model.add(Conv2D(64, (3,3), activation='relu'))\n",
        "model.add(MaxPooling2D(pool_size=(2,2))) #reduce size\n",
        "model.add(Dropout(0.25))\n",
        "\n",
        "model.add(Flatten())\n",
        "model.add(Dense(512, activation=\"relu\"))\n",
        "model.add(Dropout(0.50))\n",
        "model.add(Dense(10, activation=\"softmax\"))\n",
        "\n",
        "model.compile(\n",
        "    loss='categorical_crossentropy', \n",
        "    optimizer ='adam', \n",
        "    metrics=['accuracy']\n",
        ")\n",
        "\n",
        "#model.summary()"
      ],
      "metadata": {
        "id": "cNwAjCDl7Bw3"
      },
      "execution_count": 7,
      "outputs": []
    },
    {
      "cell_type": "markdown",
      "source": [
        "# Train Model"
      ],
      "metadata": {
        "id": "uC4sAwCo_WCD"
      }
    },
    {
      "cell_type": "code",
      "source": [
        "# train the model \n",
        "model.fit(\n",
        "    x_train,\n",
        "    y_train, \n",
        "    batch_size=32, \n",
        "    epochs=30, \n",
        "    validation_data=(x_test, y_test), \n",
        "    shuffle=True\n",
        ")"
      ],
      "metadata": {
        "colab": {
          "base_uri": "https://localhost:8080/"
        },
        "id": "04xVxr8Z85iU",
        "outputId": "bf1ba448-eb4d-4478-8587-035b5c11ff32"
      },
      "execution_count": 8,
      "outputs": [
        {
          "output_type": "stream",
          "name": "stdout",
          "text": [
            "Epoch 1/30\n",
            "1563/1563 [==============================] - 38s 19ms/step - loss: 1.6015 - accuracy: 0.4120 - val_loss: 1.2091 - val_accuracy: 0.5693\n",
            "Epoch 2/30\n",
            "1563/1563 [==============================] - 29s 18ms/step - loss: 1.1890 - accuracy: 0.5788 - val_loss: 1.0393 - val_accuracy: 0.6292\n",
            "Epoch 3/30\n",
            "1563/1563 [==============================] - 29s 19ms/step - loss: 1.0262 - accuracy: 0.6351 - val_loss: 0.9269 - val_accuracy: 0.6711\n",
            "Epoch 4/30\n",
            "1563/1563 [==============================] - 29s 19ms/step - loss: 0.9300 - accuracy: 0.6745 - val_loss: 0.8765 - val_accuracy: 0.7036\n",
            "Epoch 5/30\n",
            "1563/1563 [==============================] - 29s 18ms/step - loss: 0.8523 - accuracy: 0.6994 - val_loss: 0.8138 - val_accuracy: 0.7173\n",
            "Epoch 6/30\n",
            "1563/1563 [==============================] - 29s 18ms/step - loss: 0.8092 - accuracy: 0.7168 - val_loss: 0.7329 - val_accuracy: 0.7455\n",
            "Epoch 7/30\n",
            "1563/1563 [==============================] - 29s 19ms/step - loss: 0.7640 - accuracy: 0.7301 - val_loss: 0.7113 - val_accuracy: 0.7525\n",
            "Epoch 8/30\n",
            "1563/1563 [==============================] - 29s 18ms/step - loss: 0.7268 - accuracy: 0.7434 - val_loss: 0.7449 - val_accuracy: 0.7456\n",
            "Epoch 9/30\n",
            "1563/1563 [==============================] - 29s 19ms/step - loss: 0.6970 - accuracy: 0.7551 - val_loss: 0.7092 - val_accuracy: 0.7590\n",
            "Epoch 10/30\n",
            "1563/1563 [==============================] - 29s 19ms/step - loss: 0.6689 - accuracy: 0.7651 - val_loss: 0.6761 - val_accuracy: 0.7701\n",
            "Epoch 11/30\n",
            "1563/1563 [==============================] - 29s 19ms/step - loss: 0.6518 - accuracy: 0.7708 - val_loss: 0.6726 - val_accuracy: 0.7708\n",
            "Epoch 12/30\n",
            "1563/1563 [==============================] - 29s 19ms/step - loss: 0.6215 - accuracy: 0.7808 - val_loss: 0.6913 - val_accuracy: 0.7692\n",
            "Epoch 13/30\n",
            "1563/1563 [==============================] - 29s 19ms/step - loss: 0.6129 - accuracy: 0.7834 - val_loss: 0.6651 - val_accuracy: 0.7778\n",
            "Epoch 14/30\n",
            "1563/1563 [==============================] - 30s 19ms/step - loss: 0.5893 - accuracy: 0.7916 - val_loss: 0.6521 - val_accuracy: 0.7811\n",
            "Epoch 15/30\n",
            "1563/1563 [==============================] - 29s 19ms/step - loss: 0.5823 - accuracy: 0.7972 - val_loss: 0.6455 - val_accuracy: 0.7794\n",
            "Epoch 16/30\n",
            "1563/1563 [==============================] - 30s 19ms/step - loss: 0.5715 - accuracy: 0.7999 - val_loss: 0.6607 - val_accuracy: 0.7728\n",
            "Epoch 17/30\n",
            "1563/1563 [==============================] - 29s 19ms/step - loss: 0.5515 - accuracy: 0.8051 - val_loss: 0.6372 - val_accuracy: 0.7838\n",
            "Epoch 18/30\n",
            "1563/1563 [==============================] - 30s 19ms/step - loss: 0.5416 - accuracy: 0.8104 - val_loss: 0.6371 - val_accuracy: 0.7838\n",
            "Epoch 19/30\n",
            "1563/1563 [==============================] - 29s 18ms/step - loss: 0.5301 - accuracy: 0.8122 - val_loss: 0.6459 - val_accuracy: 0.7842\n",
            "Epoch 20/30\n",
            "1563/1563 [==============================] - 29s 19ms/step - loss: 0.5235 - accuracy: 0.8164 - val_loss: 0.6569 - val_accuracy: 0.7834\n",
            "Epoch 21/30\n",
            "1563/1563 [==============================] - 29s 19ms/step - loss: 0.5070 - accuracy: 0.8220 - val_loss: 0.6508 - val_accuracy: 0.7801\n",
            "Epoch 22/30\n",
            "1563/1563 [==============================] - 29s 18ms/step - loss: 0.5078 - accuracy: 0.8210 - val_loss: 0.6633 - val_accuracy: 0.7835\n",
            "Epoch 23/30\n",
            "1563/1563 [==============================] - 29s 18ms/step - loss: 0.4933 - accuracy: 0.8256 - val_loss: 0.6442 - val_accuracy: 0.7932\n",
            "Epoch 24/30\n",
            "1563/1563 [==============================] - 29s 19ms/step - loss: 0.4927 - accuracy: 0.8277 - val_loss: 0.6546 - val_accuracy: 0.7875\n",
            "Epoch 25/30\n",
            "1563/1563 [==============================] - 30s 19ms/step - loss: 0.4816 - accuracy: 0.8312 - val_loss: 0.6603 - val_accuracy: 0.7810\n",
            "Epoch 26/30\n",
            "1563/1563 [==============================] - 29s 18ms/step - loss: 0.4782 - accuracy: 0.8307 - val_loss: 0.6498 - val_accuracy: 0.7908\n",
            "Epoch 27/30\n",
            "1563/1563 [==============================] - 29s 18ms/step - loss: 0.4703 - accuracy: 0.8349 - val_loss: 0.7095 - val_accuracy: 0.7825\n",
            "Epoch 28/30\n",
            "1563/1563 [==============================] - 30s 19ms/step - loss: 0.4608 - accuracy: 0.8407 - val_loss: 0.6372 - val_accuracy: 0.7959\n",
            "Epoch 29/30\n",
            "1563/1563 [==============================] - 29s 18ms/step - loss: 0.4484 - accuracy: 0.8422 - val_loss: 0.6695 - val_accuracy: 0.7884\n",
            "Epoch 30/30\n",
            "1563/1563 [==============================] - 30s 19ms/step - loss: 0.4496 - accuracy: 0.8429 - val_loss: 0.6565 - val_accuracy: 0.7916\n"
          ]
        },
        {
          "output_type": "execute_result",
          "data": {
            "text/plain": [
              "<keras.callbacks.History at 0x7f5a50056a90>"
            ]
          },
          "metadata": {},
          "execution_count": 8
        }
      ]
    },
    {
      "cell_type": "markdown",
      "source": [
        "# Save NNet"
      ],
      "metadata": {
        "id": "gyu2jnFG__sZ"
      }
    },
    {
      "cell_type": "code",
      "source": [
        "# Save NNet structure\n",
        "model_structure = model.to_json()\n",
        "f = Path(\"model_structure.json\")\n",
        "f.write_text(model_structure)\n",
        "\n",
        "# Save NNet trained weights\n",
        "model.save_weights(\"model_weights.h5\")"
      ],
      "metadata": {
        "id": "DWx0-fMP87CE"
      },
      "execution_count": 11,
      "outputs": []
    },
    {
      "cell_type": "code",
      "source": [
        ""
      ],
      "metadata": {
        "id": "gJSFDTWYBVY9"
      },
      "execution_count": null,
      "outputs": []
    },
    {
      "cell_type": "markdown",
      "source": [
        "# Load NNet"
      ],
      "metadata": {
        "id": "jJwX5YxGGNLr"
      }
    },
    {
      "cell_type": "code",
      "source": [
        "import keras\n",
        "from keras.datasets import cifar10\n",
        "from keras.models import Sequential, model_from_json\n",
        "from keras.layers import Dense, Dropout, Flatten, Conv2D, MaxPooling2D\n",
        "from pathlib import Path\n",
        "from keras.preprocessing import image\n",
        "import matplotlib.pylab as plt\n",
        "import numpy as np"
      ],
      "metadata": {
        "id": "xL8gpRZNGO3Y"
      },
      "execution_count": 28,
      "outputs": []
    },
    {
      "cell_type": "code",
      "source": [
        "class_labels = {\n",
        "    0: 'Plane', \n",
        "    1: 'Car', \n",
        "    2: 'Bird',\n",
        "    3: 'Cat',\n",
        "    4: 'Deer',\n",
        "    5: 'Dog',\n",
        "    6: 'Frog', \n",
        "    7: 'Horse', \n",
        "    8: 'Boat', \n",
        "    9: 'Truck'\n",
        "}"
      ],
      "metadata": {
        "id": "TxJvGVdxGSNr"
      },
      "execution_count": 34,
      "outputs": []
    },
    {
      "cell_type": "code",
      "source": [
        "# Load json file that contains model structure\n",
        "f = Path('model_structure.json')\n",
        "model_structure = f.read_text()\n",
        "\n",
        "# Recreate the Keras model object from the json data\n",
        "model = model_from_json(model_structure)\n",
        "\n",
        "# Re-load the model's trained weights\n",
        "model.load_weights(\"model_weights.h5\")"
      ],
      "metadata": {
        "id": "BbP8EfP_GW-c"
      },
      "execution_count": 22,
      "outputs": []
    },
    {
      "cell_type": "code",
      "source": [
        "# Load an image file\n",
        "img = image.load_img(\"cat.png\", target_size = (32,32))\n",
        "\n",
        "# Convert the image to a numpy array\n",
        "image_to_test = image.img_to_array(img)/255\n",
        "\n",
        "# Add a fourth dimension to the image unsqueeze\n",
        "list_of_images = np.expand_dims(image_to_test, axis=0)\n",
        "\n",
        "# Make a prediction using the model\n",
        "results = model.predict(list_of_images)\n",
        "\n",
        "single_result = results[0]\n",
        "most_likely_class_index = int(np.argmax(single_result))\n",
        "\n",
        "class_likelihood = single_result[most_likely_class_index]\n",
        "\n",
        "class_label = class_labels[most_likely_class_index]\n",
        "\n",
        "mystring = 'This image is a {} - Likelihood: {:2f}'.format(class_label, class_likelihood)\n",
        "print(mystring)"
      ],
      "metadata": {
        "colab": {
          "base_uri": "https://localhost:8080/"
        },
        "id": "neRMnUokGiD6",
        "outputId": "68db1a4a-4309-472e-862f-02075547bbb9"
      },
      "execution_count": 41,
      "outputs": [
        {
          "output_type": "stream",
          "name": "stdout",
          "text": [
            "This image is a Cat - Likelihood: 0.999198\n"
          ]
        }
      ]
    },
    {
      "cell_type": "code",
      "source": [
        ""
      ],
      "metadata": {
        "id": "Oa_QcwiuHUkn"
      },
      "execution_count": null,
      "outputs": []
    }
  ]
}